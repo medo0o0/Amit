{
 "cells": [
  {
   "cell_type": "markdown",
   "id": "24f7d262-7099-4e36-ad52-856c15a489d3",
   "metadata": {
    "tags": []
   },
   "source": [
    "# Salary_Data_Based_country_and_race answer"
   ]
  },
  {
   "cell_type": "markdown",
   "id": "f0294aab-88c2-4828-9854-1dc96497d27c",
   "metadata": {},
   "source": [
    "* the dataset link \n",
    "https://www.kaggle.com/datasets/sudheerp2147234/salary-dataset-based-on-country-and-race"
   ]
  },
  {
   "cell_type": "code",
   "execution_count": 4,
   "id": "21df8ca5-a6d1-4fb7-9368-06ad86bb8318",
   "metadata": {},
   "outputs": [],
   "source": [
    "import pandas as pd\n",
    "\n",
    "# Load the data from CSV into a DataFrame\n",
    "data = pd.read_csv('Salary_Data_Based_country_and_race.csv')"
   ]
  },
  {
   "cell_type": "code",
   "execution_count": 5,
   "id": "e3e6ba36-a5a3-41df-a1b5-6ff3f9ffda3b",
   "metadata": {},
   "outputs": [
    {
     "name": "stdout",
     "output_type": "stream",
     "text": [
      "<class 'pandas.core.frame.DataFrame'>\n",
      "RangeIndex: 6704 entries, 0 to 6703\n",
      "Data columns (total 9 columns):\n",
      " #   Column               Non-Null Count  Dtype  \n",
      "---  ------               --------------  -----  \n",
      " 0   Unnamed: 0           6704 non-null   int64  \n",
      " 1   Age                  6702 non-null   float64\n",
      " 2   Gender               6702 non-null   object \n",
      " 3   Education Level      6701 non-null   object \n",
      " 4   Job Title            6702 non-null   object \n",
      " 5   Years of Experience  6701 non-null   float64\n",
      " 6   Salary               6699 non-null   float64\n",
      " 7   Country              6704 non-null   object \n",
      " 8   Race                 6704 non-null   object \n",
      "dtypes: float64(3), int64(1), object(5)\n",
      "memory usage: 471.5+ KB\n"
     ]
    }
   ],
   "source": [
    "data.info()"
   ]
  },
  {
   "cell_type": "code",
   "execution_count": 6,
   "id": "94d8d3ba-bf42-457b-8cb8-abb2dea7cd9b",
   "metadata": {},
   "outputs": [],
   "source": [
    "\n",
    "# Handling missing values\n",
    "data.dropna(inplace=True)\n",
    "\n",
    "# Convert categorical variables into numerical representations, if needed\n",
    "data['Gender'] = data['Gender'].map({'Male': 0, 'Female': 1})\n",
    "\n",
    "# Remove unnecessary columns, if applicable\n",
    "data.drop('Education Level', axis=1, inplace=True)\n"
   ]
  },
  {
   "cell_type": "code",
   "execution_count": 7,
   "id": "bd40b3fa-d909-4520-850f-ddf858b6fb6e",
   "metadata": {},
   "outputs": [
    {
     "name": "stdout",
     "output_type": "stream",
     "text": [
      "<class 'pandas.core.frame.DataFrame'>\n",
      "Int64Index: 6698 entries, 0 to 6703\n",
      "Data columns (total 8 columns):\n",
      " #   Column               Non-Null Count  Dtype  \n",
      "---  ------               --------------  -----  \n",
      " 0   Unnamed: 0           6698 non-null   int64  \n",
      " 1   Age                  6698 non-null   float64\n",
      " 2   Gender               6684 non-null   float64\n",
      " 3   Job Title            6698 non-null   object \n",
      " 4   Years of Experience  6698 non-null   float64\n",
      " 5   Salary               6698 non-null   float64\n",
      " 6   Country              6698 non-null   object \n",
      " 7   Race                 6698 non-null   object \n",
      "dtypes: float64(4), int64(1), object(3)\n",
      "memory usage: 471.0+ KB\n"
     ]
    }
   ],
   "source": [
    "data.info()"
   ]
  },
  {
   "cell_type": "code",
   "execution_count": 8,
   "id": "ab39f1e3-222f-44da-95f5-1d2e6c37bee2",
   "metadata": {},
   "outputs": [
    {
     "name": "stdout",
     "output_type": "stream",
     "text": [
      "Country\n",
      "Australia    114917.382485\n",
      "Canada       116556.732830\n",
      "China        116271.373790\n",
      "UK           115951.101124\n",
      "USA          112995.487859\n",
      "Name: Salary, dtype: float64\n"
     ]
    }
   ],
   "source": [
    "# Perform data analysis\n",
    "# Example: Calculate the average salary by country\n",
    "avg_salary_by_country = data.groupby('Country')['Salary'].mean()\n",
    "\n",
    "# Print the average salary by country\n",
    "print(avg_salary_by_country)"
   ]
  },
  {
   "cell_type": "code",
   "execution_count": 9,
   "id": "15487931-b08f-4a8f-b2fe-9b4423a2cd7a",
   "metadata": {},
   "outputs": [
    {
     "name": "stdout",
     "output_type": "stream",
     "text": [
      "Mean Squared Error: 943813053.9698886\n"
     ]
    }
   ],
   "source": [
    "from sklearn.model_selection import train_test_split\n",
    "from sklearn.linear_model import LinearRegression\n",
    "from sklearn.metrics import mean_squared_error\n",
    "from sklearn.impute import SimpleImputer\n",
    "from sklearn.preprocessing import MinMaxScaler\n",
    "\n",
    "# Separate the features (independent variables) and target variable (dependent variable)\n",
    "X = data[['Age', 'Gender', 'Years of Experience']]\n",
    "y = data['Salary']\n",
    "\n",
    "# Split the data into training and testing sets\n",
    "X_train, X_test, y_train, y_test = train_test_split(X, y, test_size=0.2, random_state=42)\n",
    "\n",
    "# Handle missing values in the training and testing sets, if any\n",
    "imputer = SimpleImputer(strategy='mean')\n",
    "X_train = imputer.fit_transform(X_train)\n",
    "X_test = imputer.transform(X_test)\n",
    "\n",
    "# Scale the features to a specific range, if needed\n",
    "scaler = MinMaxScaler()\n",
    "X_train = scaler.fit_transform(X_train)\n",
    "X_test = scaler.transform(X_test)\n",
    "\n",
    "# Create a linear regression model\n",
    "model = LinearRegression()\n",
    "\n",
    "# Train the model using the training data\n",
    "model.fit(X_train, y_train)\n",
    "\n",
    "# Predict the target variable for the test data\n",
    "y_pred = model.predict(X_test)\n",
    "\n",
    "# Evaluate the model by calculating the mean squared error\n",
    "mse = mean_squared_error(y_test, y_pred)\n",
    "\n",
    "# Print the mean squared error\n",
    "print(\"Mean Squared Error:\", mse)"
   ]
  },
  {
   "cell_type": "code",
   "execution_count": null,
   "id": "ca8a1cab-6523-48b3-b425-ad5275c9f92c",
   "metadata": {},
   "outputs": [],
   "source": []
  }
 ],
 "metadata": {
  "kernelspec": {
   "display_name": "Python 3 (ipykernel)",
   "language": "python",
   "name": "python3"
  },
  "language_info": {
   "codemirror_mode": {
    "name": "ipython",
    "version": 3
   },
   "file_extension": ".py",
   "mimetype": "text/x-python",
   "name": "python",
   "nbconvert_exporter": "python",
   "pygments_lexer": "ipython3",
   "version": "3.9.13"
  }
 },
 "nbformat": 4,
 "nbformat_minor": 5
}
