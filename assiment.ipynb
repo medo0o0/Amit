{
 "cells": [
  {
   "cell_type": "markdown",
   "id": "037c73ac-0d86-4d5a-ac97-b8163844f2c7",
   "metadata": {},
   "source": [
    "## Fanction "
   ]
  },
  {
   "cell_type": "markdown",
   "id": "9ddbbe12-2784-4faa-9799-8ba9e7fb71e4",
   "metadata": {},
   "source": [
    "- Write a function that takes two numbers as arguments and returns their sum."
   ]
  },
  {
   "cell_type": "code",
   "execution_count": 34,
   "id": "029a5666-3416-4670-9644-a19b5fd88d26",
   "metadata": {},
   "outputs": [
    {
     "name": "stdout",
     "output_type": "stream",
     "text": [
      "enter m : 1\n",
      "enter x : 2\n",
      "enter y : 3\n",
      "sum = 5\n"
     ]
    }
   ],
   "source": [
    "def count(x,y):\n",
    "    z = x + y\n",
    "    print (f'sum = {z}')\n",
    "    \n",
    "m = int(input(\"enter m : \"))\n",
    "x = int(input(\"enter x : \"))\n",
    "y = int(input(\"enter y : \"))\n",
    "\n",
    "if m == 1 :\n",
    "    count(x,y)\n",
    "else:\n",
    "    print (\"error\")\n"
   ]
  },
  {
   "cell_type": "code",
   "execution_count": null,
   "id": "27d8d81e",
   "metadata": {},
   "outputs": [],
   "source": []
  },
  {
   "cell_type": "markdown",
   "id": "c6c90bb5-b251-407e-b13a-4c3a320f20ac",
   "metadata": {},
   "source": [
    "- Write a function that takes a list of numbers as an argument and returns the sum of those numbers."
   ]
  },
  {
   "cell_type": "code",
   "execution_count": 33,
   "id": "13e36074-9d7d-4c6d-9652-71c37a63b20c",
   "metadata": {},
   "outputs": [
    {
     "name": "stdout",
     "output_type": "stream",
     "text": [
      "Enter the list elements: 3\n",
      "Element 1: 10\n",
      "Element 2: 15\n",
      "Element 3: 2\n",
      "27.0\n"
     ]
    }
   ],
   "source": [
    "def sum(numbers):\n",
    "  s = 0\n",
    "  for number in numbers:\n",
    "    s += number\n",
    "  print(s)\n",
    "\n",
    "list = []\n",
    "n = int(input('Enter the list elements: '))\n",
    "\n",
    "for i in range(n):\n",
    "  nums = float(input(f'Element {i+1}: '))\n",
    "  list.append(nums)\n",
    "\n",
    "sum(list)"
   ]
  },
  {
   "cell_type": "code",
   "execution_count": null,
   "id": "8e36853d",
   "metadata": {},
   "outputs": [],
   "source": []
  },
  {
   "cell_type": "markdown",
   "id": "5b13316d-6e99-40cc-8e20-c1cef178b500",
   "metadata": {},
   "source": [
    "- Write a function that takes a string as an argument and returns the length of that string."
   ]
  },
  {
   "cell_type": "code",
   "execution_count": 44,
   "id": "faf27133-fcec-4fb1-8ee5-33fe55d782ad",
   "metadata": {},
   "outputs": [
    {
     "name": "stdout",
     "output_type": "stream",
     "text": [
      "Enter a string: mo\n",
      "2\n"
     ]
    }
   ],
   "source": [
    "def length(string):\n",
    "  print (len(string))\n",
    "\n",
    "string = input('Enter a string: ')\n",
    "\n",
    "length(string)"
   ]
  },
  {
   "cell_type": "code",
   "execution_count": null,
   "id": "d0a71d77",
   "metadata": {},
   "outputs": [],
   "source": []
  },
  {
   "cell_type": "markdown",
   "id": "0dd1dfe0",
   "metadata": {},
   "source": [
    "- Write a function that takes a list of strings as an argument and returns the length of the longest string in the list."
   ]
  },
  {
   "cell_type": "code",
   "execution_count": 7,
   "id": "e6a2f9fa",
   "metadata": {},
   "outputs": [
    {
     "name": "stdout",
     "output_type": "stream",
     "text": [
      "Enter the list strings: 2\n",
      " string 1: mohammed\n",
      " string 2: mo\n",
      "length = 8\n"
     ]
    }
   ],
   "source": [
    "def max_length(strings):\n",
    "  length = 0\n",
    "  for i in strings:\n",
    "    if len(i) > length:\n",
    "      length = len(i)\n",
    "  return length\n",
    "\n",
    "my_strings = []\n",
    "s = int(input('Enter the list strings: '))\n",
    "\n",
    "for i in range(s):\n",
    "  string = input(f' string {i+1}: ')\n",
    "  my_strings.append(string)\n",
    "\n",
    "length = max_length(my_strings)\n",
    "\n",
    "print(f'length = {length}')\n"
   ]
  },
  {
   "cell_type": "code",
   "execution_count": null,
   "id": "23530052-32c9-43d9-9368-6bcd08689995",
   "metadata": {},
   "outputs": [],
   "source": []
  },
  {
   "cell_type": "markdown",
   "id": "c32bc5e5-da6a-4fc1-b634-84f58974b6a8",
   "metadata": {},
   "source": [
    "- Write a function that takes a list of numbers as an argument and returns the average of those numbers."
   ]
  },
  {
   "cell_type": "code",
   "execution_count": 58,
   "id": "e2a2b96f-1918-494a-bda5-47d1d5027249",
   "metadata": {},
   "outputs": [
    {
     "name": "stdout",
     "output_type": "stream",
     "text": [
      "Enter the numof list elements: 2\n",
      "Element 1: 10\n",
      "Element 2: 10\n",
      "10.0\n"
     ]
    }
   ],
   "source": [
    "def average(nums):\n",
    "  sum = 0\n",
    "  for i in nums:\n",
    "    sum += i\n",
    "  print (sum / len(nums))\n",
    "\n",
    "nums = []\n",
    "n = int(input('Enter the num of list elements: '))\n",
    "\n",
    "for i in range(n):\n",
    "  nums = float(input(f'Element {i+1}: '))\n",
    "  list.append(nums)\n",
    "\n",
    "average(list)\n"
   ]
  },
  {
   "cell_type": "code",
   "execution_count": null,
   "id": "e1ad7d48-cb7a-4393-8c6a-96bb4354ebed",
   "metadata": {},
   "outputs": [],
   "source": []
  },
  {
   "cell_type": "markdown",
   "id": "c389e500-46ee-40f6-9c57-17a0649edc63",
   "metadata": {},
   "source": [
    "- Write a function that takes a string as an argument and returns True if the string is a palindrome (reads the same forwards and backwards) and False otherwise."
   ]
  },
  {
   "cell_type": "code",
   "execution_count": 61,
   "id": "d03a375f-5718-4858-b42c-8b05b5f3f5e1",
   "metadata": {},
   "outputs": [
    {
     "name": "stdout",
     "output_type": "stream",
     "text": [
      "Enter a string: lol\n"
     ]
    },
    {
     "data": {
      "text/plain": [
       "True"
      ]
     },
     "execution_count": 61,
     "metadata": {},
     "output_type": "execute_result"
    }
   ],
   "source": [
    "def palindrome(string):\n",
    "  return string == string[::-1]\n",
    "\n",
    "string = input('Enter a string: ')\n",
    "result = palindrome(string)\n",
    "palindrome(string)\n",
    "\n"
   ]
  },
  {
   "cell_type": "code",
   "execution_count": null,
   "id": "7f4cc590-1d95-4619-8451-eaebd27132ea",
   "metadata": {},
   "outputs": [],
   "source": []
  },
  {
   "cell_type": "markdown",
   "id": "6572eb4a-7322-4def-b606-896135c22124",
   "metadata": {},
   "source": [
    "- Write a function that takes a list of numbers as an argument and returns a new list containing only the even numbers from the original list."
   ]
  },
  {
   "cell_type": "code",
   "execution_count": 15,
   "id": "52a9054a-f8fc-4fa6-b94e-0623a0f7093e",
   "metadata": {},
   "outputs": [
    {
     "name": "stdout",
     "output_type": "stream",
     "text": [
      "[2, 4, 6]\n"
     ]
    }
   ],
   "source": [
    "even_num = []\n",
    "def even (num):\n",
    "    for i in num:\n",
    "        if i % 2 ==0 :\n",
    "            even_num.append(i)\n",
    "    print(even_num)\n",
    "    \n",
    "    \n",
    "even([1,2,3,4,5,6])"
   ]
  },
  {
   "cell_type": "code",
   "execution_count": null,
   "id": "c8c91a17-7c46-48b6-ae79-cc6bdb94bf8b",
   "metadata": {},
   "outputs": [],
   "source": []
  },
  {
   "cell_type": "markdown",
   "id": "1ba77608-13ac-4dd4-9aa3-322cc099e485",
   "metadata": {},
   "source": [
    "- Write a function that takes a list of numbers as an argument and returns a new list containing the squares of those numbers."
   ]
  },
  {
   "cell_type": "code",
   "execution_count": 25,
   "id": "1e2e22ef-86bd-4f40-af4a-8f2951e2ccbf",
   "metadata": {},
   "outputs": [
    {
     "name": "stdout",
     "output_type": "stream",
     "text": [
      "[1, 4, 9, 16]\n"
     ]
    }
   ],
   "source": [
    "def square_list(nums):\n",
    "    squared_nums = []\n",
    "    for i in nums:\n",
    "        squared_nums.append(i ** 2)\n",
    "    print (squared_nums)\n",
    "\n",
    "nums = [1, 2, 3, 4]\n",
    "square_list(nums)"
   ]
  },
  {
   "cell_type": "code",
   "execution_count": null,
   "id": "1fc180a2",
   "metadata": {},
   "outputs": [],
   "source": []
  }
 ],
 "metadata": {
  "kernelspec": {
   "display_name": "Python 3 (ipykernel)",
   "language": "python",
   "name": "python3"
  },
  "language_info": {
   "codemirror_mode": {
    "name": "ipython",
    "version": 3
   },
   "file_extension": ".py",
   "mimetype": "text/x-python",
   "name": "python",
   "nbconvert_exporter": "python",
   "pygments_lexer": "ipython3",
   "version": "3.9.13"
  }
 },
 "nbformat": 4,
 "nbformat_minor": 5
}
